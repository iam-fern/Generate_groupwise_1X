{
  "nbformat": 4,
  "nbformat_minor": 0,
  "metadata": {
    "colab": {
      "name": "Generate_groupwise_1X.ipynb",
      "provenance": [],
      "include_colab_link": true
    },
    "kernelspec": {
      "name": "python3",
      "display_name": "Python 3"
    },
    "language_info": {
      "name": "python"
    }
  },
  "cells": [
    {
      "cell_type": "markdown",
      "metadata": {
        "id": "view-in-github",
        "colab_type": "text"
      },
      "source": [
        "<a href=\"https://colab.research.google.com/github/iam-fern/Generate_groupwise_1X/blob/main/Generate_groupwise_1X.ipynb\" target=\"_parent\"><img src=\"https://colab.research.google.com/assets/colab-badge.svg\" alt=\"Open In Colab\"/></a>"
      ]
    },
    {
      "cell_type": "markdown",
      "metadata": {
        "id": "byXsWNU60cf1"
      },
      "source": [
        "#Generating random numbers from a uniform distribution\n",
        "https://subscription.packtpub.com/book/big_data_and_business_intelligence/9781787125698/12/ch25lvl1sec126/generating-random-numbers-from-a-uniform-distribution"
      ]
    },
    {
      "cell_type": "code",
      "metadata": {
        "id": "v72YiLRL0bNa",
        "colab": {
          "base_uri": "https://localhost:8080/"
        },
        "outputId": "ffeba421-849f-47c9-c80d-c3687a29f153"
      },
      "source": [
        "import pandas as pd\n",
        "import numpy as np\n",
        "import scipy as sp\n",
        "import matplotlib.pyplot as plt\n",
        "from scipy.stats import norm\n",
        "from numpy.random import normal\n",
        "import statistics\n",
        "import statistics as stats\n",
        "import scipy.stats as ss\n",
        "from scipy import stats\n",
        "import scipy.stats as stats\n",
        "import random\n",
        "import statsmodels.api as sm\n",
        "%matplotlib inline\n",
        "from google.colab import files\n",
        "import math"
      ],
      "execution_count": 1,
      "outputs": [
        {
          "output_type": "stream",
          "name": "stderr",
          "text": [
            "/usr/local/lib/python3.7/dist-packages/statsmodels/tools/_testing.py:19: FutureWarning: pandas.util.testing is deprecated. Use the functions in the public API at pandas.testing instead.\n",
            "  import pandas.util.testing as tm\n"
          ]
        }
      ]
    },
    {
      "cell_type": "code",
      "source": [
        "sp.random.seed(314157)"
      ],
      "metadata": {
        "id": "QAjrLrdL5T5D"
      },
      "execution_count": 2,
      "outputs": []
    },
    {
      "cell_type": "code",
      "source": [
        "n=20\n",
        "rep=0\n",
        "#sp.random.seed(314157)\n",
        "table_data_all=pd.DataFrame({\"rep\":[]})\n",
        "for i in range(1000):\n",
        "    data = pd.DataFrame({\"X1\" : sp.random.uniform(20, 100, n)})\n",
        "    table_data = data.copy()\n",
        "\n",
        "    table_data.loc[:math.floor(n/2),\"e\"] = table_data.loc[:math.floor(n/2),\"X1\"].apply(lambda X1: np.random.normal(0, math.sqrt(0.5)))\n",
        "    table_data.loc[math.floor(n/2):,\"e\"] = table_data.loc[math.floor(n/2):,\"X1\"].apply(lambda X1: np.random.normal(0, math.sqrt(0.5)))\n",
        "    # display(table_data.loc[:math.floor(n/2),\"e\"])\n",
        "    # display(table_data.loc[math.floor(n/2):,\"e\"])\n",
        "    # ==========================================\n",
        "\n",
        "    # table_data = data_new.copy()\n",
        "\n",
        "\n",
        "    table_data[\"Y\"] = 10 + table_data[\"X1\"] + table_data[\"e\"]\n",
        "    \n",
        "    table_data=table_data.reset_index(drop=True).reset_index()\n",
        "    table_data[\"rep\"]=rep\n",
        "    new_data = table_data.copy()\n",
        "\n",
        "    # ==========================================\n",
        "    x = new_data[[\"X1\"]]\n",
        "    y = new_data[\"Y\"]\n",
        "    x = sm.add_constant(x)\n",
        "    model = sm.OLS(y, x).fit()\n",
        "    y_pred = model.predict(x)\n",
        "\n",
        "    df = pd.DataFrame({\"Actual\": y, \"Predicted\": y_pred})\n",
        "\n",
        "    table_data_new = pd.DataFrame({\"x1\"    : new_data[\"X1\"],\n",
        "                                   \"e\"     : new_data[\"e\"],\n",
        "                                   \"Y\"     : df[\"Actual\"],\n",
        "                                   \"y_hat\" : df[\"Predicted\"]})\n",
        "    table_data_new[\"e_hat\"] = table_data_new[\"Y\"] - table_data_new[\"y_hat\"]\n",
        "    table_data_new[\"rep\"] = rep\n",
        "    table_data_new = table_data_new.reset_index()\n",
        "    table_data_new\n",
        "    # ==========================================\n",
        "    table_data_all=pd.concat([table_data_all,table_data_new],axis=0,ignore_index=True,sort=False)\n",
        "    rep+=1\n",
        "    if rep==1000:\n",
        "      break\n",
        "table_data_all=table_data_all.set_index([\"rep\", \"index\"])\n",
        "table_data_all"
      ],
      "metadata": {
        "id": "cIq_D6Q0MvvH",
        "outputId": "2063c662-3ce9-4e67-f79d-870c5284ab5c",
        "colab": {
          "base_uri": "https://localhost:8080/",
          "height": 510
        }
      },
      "execution_count": 64,
      "outputs": [
        {
          "output_type": "stream",
          "name": "stderr",
          "text": [
            "/usr/local/lib/python3.7/dist-packages/statsmodels/tsa/tsatools.py:117: FutureWarning: In a future version of pandas all arguments of concat except for the argument 'objs' will be keyword-only\n",
            "  x = pd.concat(x[::order], 1)\n"
          ]
        },
        {
          "output_type": "execute_result",
          "data": {
            "text/plain": [
              "                    x1         e           Y       y_hat     e_hat\n",
              "rep   index                                                       \n",
              "0.0   0.0    86.067866  0.125999   96.193866   95.991182  0.202684\n",
              "      1.0    69.844040  0.363369   80.207410   79.891952  0.315458\n",
              "      2.0    48.988212  0.334427   59.322639   59.196293  0.126345\n",
              "      3.0    92.657922 -0.209182  102.448740  102.530626 -0.081886\n",
              "      4.0    24.035203  0.175527   34.210730   34.434920 -0.224190\n",
              "...                ...       ...         ...         ...       ...\n",
              "999.0 15.0   70.058661  0.703738   80.762399   80.082160  0.680239\n",
              "      16.0   89.409631 -0.527057   98.882574   99.631195 -0.748622\n",
              "      17.0   25.897359 -0.491070   35.406289   35.468850 -0.062561\n",
              "      18.0   92.613436  0.876963  103.490399  102.867793  0.622607\n",
              "      19.0   58.256353 -0.265849   67.990505   68.159051 -0.168547\n",
              "\n",
              "[20000 rows x 5 columns]"
            ],
            "text/html": [
              "\n",
              "  <div id=\"df-639d9aa9-31a2-4816-a93d-797a349b9d12\">\n",
              "    <div class=\"colab-df-container\">\n",
              "      <div>\n",
              "<style scoped>\n",
              "    .dataframe tbody tr th:only-of-type {\n",
              "        vertical-align: middle;\n",
              "    }\n",
              "\n",
              "    .dataframe tbody tr th {\n",
              "        vertical-align: top;\n",
              "    }\n",
              "\n",
              "    .dataframe thead th {\n",
              "        text-align: right;\n",
              "    }\n",
              "</style>\n",
              "<table border=\"1\" class=\"dataframe\">\n",
              "  <thead>\n",
              "    <tr style=\"text-align: right;\">\n",
              "      <th></th>\n",
              "      <th></th>\n",
              "      <th>x1</th>\n",
              "      <th>e</th>\n",
              "      <th>Y</th>\n",
              "      <th>y_hat</th>\n",
              "      <th>e_hat</th>\n",
              "    </tr>\n",
              "    <tr>\n",
              "      <th>rep</th>\n",
              "      <th>index</th>\n",
              "      <th></th>\n",
              "      <th></th>\n",
              "      <th></th>\n",
              "      <th></th>\n",
              "      <th></th>\n",
              "    </tr>\n",
              "  </thead>\n",
              "  <tbody>\n",
              "    <tr>\n",
              "      <th rowspan=\"5\" valign=\"top\">0.0</th>\n",
              "      <th>0.0</th>\n",
              "      <td>86.067866</td>\n",
              "      <td>0.125999</td>\n",
              "      <td>96.193866</td>\n",
              "      <td>95.991182</td>\n",
              "      <td>0.202684</td>\n",
              "    </tr>\n",
              "    <tr>\n",
              "      <th>1.0</th>\n",
              "      <td>69.844040</td>\n",
              "      <td>0.363369</td>\n",
              "      <td>80.207410</td>\n",
              "      <td>79.891952</td>\n",
              "      <td>0.315458</td>\n",
              "    </tr>\n",
              "    <tr>\n",
              "      <th>2.0</th>\n",
              "      <td>48.988212</td>\n",
              "      <td>0.334427</td>\n",
              "      <td>59.322639</td>\n",
              "      <td>59.196293</td>\n",
              "      <td>0.126345</td>\n",
              "    </tr>\n",
              "    <tr>\n",
              "      <th>3.0</th>\n",
              "      <td>92.657922</td>\n",
              "      <td>-0.209182</td>\n",
              "      <td>102.448740</td>\n",
              "      <td>102.530626</td>\n",
              "      <td>-0.081886</td>\n",
              "    </tr>\n",
              "    <tr>\n",
              "      <th>4.0</th>\n",
              "      <td>24.035203</td>\n",
              "      <td>0.175527</td>\n",
              "      <td>34.210730</td>\n",
              "      <td>34.434920</td>\n",
              "      <td>-0.224190</td>\n",
              "    </tr>\n",
              "    <tr>\n",
              "      <th>...</th>\n",
              "      <th>...</th>\n",
              "      <td>...</td>\n",
              "      <td>...</td>\n",
              "      <td>...</td>\n",
              "      <td>...</td>\n",
              "      <td>...</td>\n",
              "    </tr>\n",
              "    <tr>\n",
              "      <th rowspan=\"5\" valign=\"top\">999.0</th>\n",
              "      <th>15.0</th>\n",
              "      <td>70.058661</td>\n",
              "      <td>0.703738</td>\n",
              "      <td>80.762399</td>\n",
              "      <td>80.082160</td>\n",
              "      <td>0.680239</td>\n",
              "    </tr>\n",
              "    <tr>\n",
              "      <th>16.0</th>\n",
              "      <td>89.409631</td>\n",
              "      <td>-0.527057</td>\n",
              "      <td>98.882574</td>\n",
              "      <td>99.631195</td>\n",
              "      <td>-0.748622</td>\n",
              "    </tr>\n",
              "    <tr>\n",
              "      <th>17.0</th>\n",
              "      <td>25.897359</td>\n",
              "      <td>-0.491070</td>\n",
              "      <td>35.406289</td>\n",
              "      <td>35.468850</td>\n",
              "      <td>-0.062561</td>\n",
              "    </tr>\n",
              "    <tr>\n",
              "      <th>18.0</th>\n",
              "      <td>92.613436</td>\n",
              "      <td>0.876963</td>\n",
              "      <td>103.490399</td>\n",
              "      <td>102.867793</td>\n",
              "      <td>0.622607</td>\n",
              "    </tr>\n",
              "    <tr>\n",
              "      <th>19.0</th>\n",
              "      <td>58.256353</td>\n",
              "      <td>-0.265849</td>\n",
              "      <td>67.990505</td>\n",
              "      <td>68.159051</td>\n",
              "      <td>-0.168547</td>\n",
              "    </tr>\n",
              "  </tbody>\n",
              "</table>\n",
              "<p>20000 rows × 5 columns</p>\n",
              "</div>\n",
              "      <button class=\"colab-df-convert\" onclick=\"convertToInteractive('df-639d9aa9-31a2-4816-a93d-797a349b9d12')\"\n",
              "              title=\"Convert this dataframe to an interactive table.\"\n",
              "              style=\"display:none;\">\n",
              "        \n",
              "  <svg xmlns=\"http://www.w3.org/2000/svg\" height=\"24px\"viewBox=\"0 0 24 24\"\n",
              "       width=\"24px\">\n",
              "    <path d=\"M0 0h24v24H0V0z\" fill=\"none\"/>\n",
              "    <path d=\"M18.56 5.44l.94 2.06.94-2.06 2.06-.94-2.06-.94-.94-2.06-.94 2.06-2.06.94zm-11 1L8.5 8.5l.94-2.06 2.06-.94-2.06-.94L8.5 2.5l-.94 2.06-2.06.94zm10 10l.94 2.06.94-2.06 2.06-.94-2.06-.94-.94-2.06-.94 2.06-2.06.94z\"/><path d=\"M17.41 7.96l-1.37-1.37c-.4-.4-.92-.59-1.43-.59-.52 0-1.04.2-1.43.59L10.3 9.45l-7.72 7.72c-.78.78-.78 2.05 0 2.83L4 21.41c.39.39.9.59 1.41.59.51 0 1.02-.2 1.41-.59l7.78-7.78 2.81-2.81c.8-.78.8-2.07 0-2.86zM5.41 20L4 18.59l7.72-7.72 1.47 1.35L5.41 20z\"/>\n",
              "  </svg>\n",
              "      </button>\n",
              "      \n",
              "  <style>\n",
              "    .colab-df-container {\n",
              "      display:flex;\n",
              "      flex-wrap:wrap;\n",
              "      gap: 12px;\n",
              "    }\n",
              "\n",
              "    .colab-df-convert {\n",
              "      background-color: #E8F0FE;\n",
              "      border: none;\n",
              "      border-radius: 50%;\n",
              "      cursor: pointer;\n",
              "      display: none;\n",
              "      fill: #1967D2;\n",
              "      height: 32px;\n",
              "      padding: 0 0 0 0;\n",
              "      width: 32px;\n",
              "    }\n",
              "\n",
              "    .colab-df-convert:hover {\n",
              "      background-color: #E2EBFA;\n",
              "      box-shadow: 0px 1px 2px rgba(60, 64, 67, 0.3), 0px 1px 3px 1px rgba(60, 64, 67, 0.15);\n",
              "      fill: #174EA6;\n",
              "    }\n",
              "\n",
              "    [theme=dark] .colab-df-convert {\n",
              "      background-color: #3B4455;\n",
              "      fill: #D2E3FC;\n",
              "    }\n",
              "\n",
              "    [theme=dark] .colab-df-convert:hover {\n",
              "      background-color: #434B5C;\n",
              "      box-shadow: 0px 1px 3px 1px rgba(0, 0, 0, 0.15);\n",
              "      filter: drop-shadow(0px 1px 2px rgba(0, 0, 0, 0.3));\n",
              "      fill: #FFFFFF;\n",
              "    }\n",
              "  </style>\n",
              "\n",
              "      <script>\n",
              "        const buttonEl =\n",
              "          document.querySelector('#df-639d9aa9-31a2-4816-a93d-797a349b9d12 button.colab-df-convert');\n",
              "        buttonEl.style.display =\n",
              "          google.colab.kernel.accessAllowed ? 'block' : 'none';\n",
              "\n",
              "        async function convertToInteractive(key) {\n",
              "          const element = document.querySelector('#df-639d9aa9-31a2-4816-a93d-797a349b9d12');\n",
              "          const dataTable =\n",
              "            await google.colab.kernel.invokeFunction('convertToInteractive',\n",
              "                                                     [key], {});\n",
              "          if (!dataTable) return;\n",
              "\n",
              "          const docLinkHtml = 'Like what you see? Visit the ' +\n",
              "            '<a target=\"_blank\" href=https://colab.research.google.com/notebooks/data_table.ipynb>data table notebook</a>'\n",
              "            + ' to learn more about interactive tables.';\n",
              "          element.innerHTML = '';\n",
              "          dataTable['output_type'] = 'display_data';\n",
              "          await google.colab.output.renderOutput(dataTable, element);\n",
              "          const docLink = document.createElement('div');\n",
              "          docLink.innerHTML = docLinkHtml;\n",
              "          element.appendChild(docLink);\n",
              "        }\n",
              "      </script>\n",
              "    </div>\n",
              "  </div>\n",
              "  "
            ]
          },
          "metadata": {},
          "execution_count": 64
        }
      ]
    },
    {
      "cell_type": "code",
      "source": [
        "tablenew0 = table_data_all.loc[0.0]\n",
        "tablenew1 = table_data_all.loc[1.0]\n",
        "tablenew2 = table_data_all.loc[2.0]\n",
        "tablenew3 = table_data_all.loc[3.0]\n",
        "tablenew4 = table_data_all.loc[4.0]\n",
        "tablenew5 = table_data_all.loc[5.0]\n",
        "tablenew6 = table_data_all.loc[6.0]\n",
        "tablenew7 = table_data_all.loc[7.0]\n",
        "tablenew8 = table_data_all.loc[8.0]\n",
        "tablenew9 = table_data_all.loc[9.0]"
      ],
      "metadata": {
        "id": "2GkEbiQQTwu-"
      },
      "execution_count": 65,
      "outputs": []
    },
    {
      "cell_type": "code",
      "source": [
        "tablenew0.plot(x ='Y', y='e', kind = 'scatter')\n",
        "tablenew1.plot(x ='Y', y='e', kind = 'scatter')\n",
        "tablenew2.plot(x ='Y', y='e', kind = 'scatter')\n",
        "tablenew3.plot(x ='Y', y='e', kind = 'scatter')\n",
        "tablenew4.plot(x ='Y', y='e', kind = 'scatter')\n",
        "tablenew5.plot(x ='Y', y='e', kind = 'scatter')\n",
        "tablenew6.plot(x ='Y', y='e', kind = 'scatter')\n",
        "tablenew7.plot(x ='Y', y='e', kind = 'scatter')\n",
        "tablenew8.plot(x ='Y', y='e', kind = 'scatter')\n",
        "tablenew9.plot(x ='Y', y='e', kind = 'scatter')"
      ],
      "metadata": {
        "colab": {
          "base_uri": "https://localhost:8080/",
          "height": 1000
        },
        "id": "mFkg_VKHUDrp",
        "outputId": "e66e26da-06e4-47a6-c7e1-2d704e92bebb"
      },
      "execution_count": 66,
      "outputs": [
        {
          "output_type": "execute_result",
          "data": {
            "text/plain": [
              "<matplotlib.axes._subplots.AxesSubplot at 0x7fa87eca0d50>"
            ]
          },
          "metadata": {},
          "execution_count": 66
        },
        {
          "output_type": "display_data",
          "data": {
            "text/plain": [
              "<Figure size 432x288 with 1 Axes>"
            ],
            "image/png": "[encoded data removed]"
          },
          "metadata": {
            "needs_background": "light"
          }
        },
        {
          "output_type": "display_data",
          "data": {
            "text/plain": [
              "<Figure size 432x288 with 1 Axes>"
            ],
            "image/png": "[encoded data removed]"
          },
          "metadata": {
            "needs_background": "light"
          }
        },
        {
          "output_type": "display_data",
          "data": {
            "text/plain": [
              "<Figure size 432x288 with 1 Axes>"
            ],
            "image/png": "[encoded data removed]"
          },
          "metadata": {
            "needs_background": "light"
          }
        },
        {
          "output_type": "display_data",
          "data": {
            "text/plain": [
              "<Figure size 432x288 with 1 Axes>"
            ],
            "image/png": "[encoded data removed]"
          },
          "metadata": {
            "needs_background": "light"
          }
        },
        {
          "output_type": "display_data",
          "data": {
            "text/plain": [
              "<Figure size 432x288 with 1 Axes>"
            ],
            "image/png": "[encoded data removed]"
          },
          "metadata": {
            "needs_background": "light"
          }
        },
        {
          "output_type": "display_data",
          "data": {
            "text/plain": [
              "<Figure size 432x288 with 1 Axes>"
            ],
            "image/png": "[encoded data removed]"
          },
          "metadata": {
            "needs_background": "light"
          }
        },
        {
          "output_type": "display_data",
          "data": {
            "text/plain": [
              "<Figure size 432x288 with 1 Axes>"
            ],
            "image/png": "[encoded data removed]"
          },
          "metadata": {
            "needs_background": "light"
          }
        },
        {
          "output_type": "display_data",
          "data": {
            "text/plain": [
              "<Figure size 432x288 with 1 Axes>"
            ],
            "image/png": "[encoded data removed]"
          },
          "metadata": {
            "needs_background": "light"
          }
        },
        {
          "output_type": "display_data",
          "data": {
            "text/plain": [
              "<Figure size 432x288 with 1 Axes>"
            ],
            "image/png": "[encoded data removed]"
          },
          "metadata": {
            "needs_background": "light"
          }
        },
        {
          "output_type": "display_data",
          "data": {
            "text/plain": [
              "<Figure size 432x288 with 1 Axes>"
            ],
            "image/png": "[encoded data removed]"
          },
          "metadata": {
            "needs_background": "light"
          }
        }
      ]
    },
    {
      "cell_type": "code",
      "metadata": {
        "colab": {
          "base_uri": "https://localhost:8080/",
          "height": 17
        },
        "id": "h5Qlst3U2Wnq",
        "outputId": "c2d66fd3-bf64-4372-dbd9-6e3e78d55b1d"
      },
      "source": [
        "table_data_all.to_csv('data_groupwise_0.5_n20.csv')\n",
        "files.download('data_groupwise_0.5_n20.csv')"
      ],
      "execution_count": 67,
      "outputs": [
        {
          "output_type": "display_data",
          "data": {
            "text/plain": [
              "<IPython.core.display.Javascript object>"
            ],
            "application/javascript": [
              "\n",
              "    async function download(id, filename, size) {\n",
              "      if (!google.colab.kernel.accessAllowed) {\n",
              "        return;\n",
              "      }\n",
              "      const div = document.createElement('div');\n",
              "      const label = document.createElement('label');\n",
              "      label.textContent = `Downloading \"${filename}\": `;\n",
              "      div.appendChild(label);\n",
              "      const progress = document.createElement('progress');\n",
              "      progress.max = size;\n",
              "      div.appendChild(progress);\n",
              "      document.body.appendChild(div);\n",
              "\n",
              "      const buffers = [];\n",
              "      let downloaded = 0;\n",
              "\n",
              "      const channel = await google.colab.kernel.comms.open(id);\n",
              "      // Send a message to notify the kernel that we're ready.\n",
              "      channel.send({})\n",
              "\n",
              "      for await (const message of channel.messages) {\n",
              "        // Send a message to notify the kernel that we're ready.\n",
              "        channel.send({})\n",
              "        if (message.buffers) {\n",
              "          for (const buffer of message.buffers) {\n",
              "            buffers.push(buffer);\n",
              "            downloaded += buffer.byteLength;\n",
              "            progress.value = downloaded;\n",
              "          }\n",
              "        }\n",
              "      }\n",
              "      const blob = new Blob(buffers, {type: 'application/binary'});\n",
              "      const a = document.createElement('a');\n",
              "      a.href = window.URL.createObjectURL(blob);\n",
              "      a.download = filename;\n",
              "      div.appendChild(a);\n",
              "      a.click();\n",
              "      div.remove();\n",
              "    }\n",
              "  "
            ]
          },
          "metadata": {}
        },
        {
          "output_type": "display_data",
          "data": {
            "text/plain": [
              "<IPython.core.display.Javascript object>"
            ],
            "application/javascript": [
              "download(\"download_e8a65fbd-c59d-40b4-9dc5-557582a2ea7c\", \"data_groupwise_0.5_n20.csv\", 2087044)"
            ]
          },
          "metadata": {}
        }
      ]
    }
  ]
}